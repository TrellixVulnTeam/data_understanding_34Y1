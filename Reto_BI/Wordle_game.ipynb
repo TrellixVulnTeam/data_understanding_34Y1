{
 "cells": [
  {
   "cell_type": "code",
   "execution_count": 2,
   "metadata": {},
   "outputs": [],
   "source": [
    "import json\n",
    "import random\n",
    "import re\n",
    "import requests\n",
    "import pandas as pd\n"
   ]
  },
  {
   "cell_type": "code",
   "execution_count": 3,
   "metadata": {},
   "outputs": [],
   "source": [
    "# url and user to use the API rest\n",
    "\n",
    "endponint_get = 'https://7b8uflffq0.execute-api.us-east-1.amazonaws.com/game/get_params'\n",
    "\n",
    "endponint_post = 'https://7b8uflffq0.execute-api.us-east-1.amazonaws.com/game/check_results'\n",
    "\n",
    "user = ('juan.bedoya','6b2a4f8d28204cf0a3286d1f9213ecfc')"
   ]
  },
  {
   "cell_type": "code",
   "execution_count": 6,
   "metadata": {},
   "outputs": [
    {
     "name": "stdout",
     "output_type": "stream",
     "text": [
      "32430\n"
     ]
    }
   ],
   "source": [
    "# open data base (clean words)\n",
    "\n",
    "with open('Data_Base_Final_Words.txt', 'r',encoding= 'utf-8') as data_file:\n",
    "\n",
    "  logs_text = data_file.read()\n",
    "\n",
    "words_final_list = logs_text.split()\n",
    "print(len(words_final_list))"
   ]
  },
  {
   "cell_type": "code",
   "execution_count": 103,
   "metadata": {},
   "outputs": [],
   "source": [
    "def choose_word(words_list):\n",
    "    alphabet = ['a', 'b', 'c', 'd', 'e', 'f', 'g', 'h', 'i', 'j', 'k', 'l', 'm', \n",
    "                'n','ñ', 'o', 'p', 'q', 'r', 's', 't', 'u', 'v', 'w', 'x', 'y', 'z']\n",
    "\n",
    "    position_letters_dict = posittion_dict(alphabet,words_list)\n",
    "\n",
    "    letter_list = [i for i in position_letters_dict]\n",
    "    df_words_frecuency= pd.DataFrame(list(zip(letter_list)),\n",
    "                        columns =['letters'])\n",
    "\n",
    "    df_words_frecuency.set_index('letters')\n",
    "\n",
    "    for i in range(len(words_list[0])):\n",
    "\n",
    "        df_words_frecuency['position_{}'.format(i)] = [position_letters_dict[j].count(i)/len(filt) for j in position_letters_dict]\n",
    "\n",
    "    df_words_frecuency= df_words_frecuency.set_index('letters')\n",
    "    chosee_weight = 0\n",
    "    for word in words_list:\n",
    "        weight = 0\n",
    "        for position,letter in enumerate(word):\n",
    "            weight += df_words_frecuency.loc[letter,'position_{}'.format(position)] / word[position:].count(letter)\n",
    "        if weight > chosee_weight:\n",
    "            select_word = word\n",
    "            chosee_weight = weight\n",
    "    \n",
    "    return select_word\n",
    "    \n",
    "def posittion_dict(letters_list,words_list):\n",
    "    dicts = {}\n",
    "    for letter in letters_list:\n",
    "        for word in words_list:\n",
    "            for letter1 in range(len(word)):\n",
    "                if letter == word[letter1]:\n",
    "                    if letter not in dicts:\n",
    "                        dicts[letter] = []\n",
    "                    dicts[letter].append(letter1)\n",
    "                    \n",
    "    return dicts\n",
    "\n",
    "def words_specific_length(words_list,long):    \n",
    "    words = []\n",
    "    for word in words_list:\n",
    "        if len(word) == long:\n",
    "            words.append(word)\n",
    "    return words\n",
    "\n",
    "def words_by_vowels(words_list,num_vowels):\n",
    "    word_list_by_vowels = []\n",
    "    for word in words_list:\n",
    "        count_vowels = len(re.findall(\"[aeiou]\", word))\n",
    "        if count_vowels == num_vowels:\n",
    "            word_list_by_vowels.append(word)\n",
    "    return word_list_by_vowels\n",
    "\n",
    "def dic_wrong_positions(positions_list,wrong_positions_letter,last_word):\n",
    "    global dic_wrong_positions_letters\n",
    "    for letters_in_word in wrong_positions_letter:\n",
    "        for letter_position in range(len(last_word)):\n",
    "            if letters_in_word == last_word[letter_position] and positions_list[letter_position] == False:\n",
    "                if letters_in_word not in dic_wrong_positions_letters:\n",
    "                    dic_wrong_positions_letters[letters_in_word] = []\n",
    "                dic_wrong_positions_letters[letters_in_word].append(letter_position) \n",
    "    return dic_wrong_positions_letters\n",
    "    \n",
    "def wrong_letters(positions_list,dict_letters_wposition,last_word):\n",
    "    global list_wrong_letters\n",
    "    for position, letter in enumerate(last_word):\n",
    "        if letter not in dict_letters_wposition and positions_list[position] != True:\n",
    "            list_wrong_letters.append(letter)\n",
    "    return list_wrong_letters\n",
    "\n",
    "def correct_position_words(position_list,last_word,words_list):\n",
    "    possible_words = []\n",
    "    for word in words_list:\n",
    "        count = 0\n",
    "        for position, letter in enumerate(word):\n",
    "            if letter == last_word[position] and position_list[position] == True:\n",
    "                count += 1\n",
    "        if count == sum(position_list):\n",
    "            possible_words.append(word)\n",
    "    return possible_words\n",
    "\n",
    "def words_without_wrong_letters(words_list,letters_list):\n",
    "    possible_words = words_list[:]\n",
    "    for word in words_list:\n",
    "        for letter in letters_list:\n",
    "            if letter in word:\n",
    "                possible_words.remove(word)\n",
    "                break\n",
    "    return possible_words\n",
    "\n",
    "def words_without_letters_wposition(words_list,dict_letters_wposition):\n",
    "    possible_words = words_list[:]\n",
    "    for word in words_list:\n",
    "        for position ,letter in enumerate(word):\n",
    "            if letter in dict_letters_wposition:\n",
    "                if position in dict_letters_wposition[letter]:\n",
    "                    possible_words.remove(word)\n",
    "                    break\n",
    "    return(possible_words)\n",
    "\n",
    "def words_with_letters_in(words_list,dict_letters_wpossition):\n",
    "    list_letters_in = list(dict_letters_wpossition)\n",
    "    possible_words = words_list[:]\n",
    "    for word in words_list:\n",
    "        for letter in list_letters_in:\n",
    "            find = re.findall(letter,word)\n",
    "            if find == []:\n",
    "                possible_words.remove(word)\n",
    "                break\n",
    "    return possible_words\n",
    "        \n",
    "def find_next_word(words_list,last_word,position_list,wrong_positions_letter):\n",
    "\n",
    "    create_dic_wrong_positions = dic_wrong_positions(position_list,wrong_positions_letter,last_word)\n",
    "\n",
    "    list_wrong_letters = wrong_letters(position_list,create_dic_wrong_positions,last_word)\n",
    "\n",
    "    words_with_correct_letters = correct_position_words(position_list,last_word,words_list)\n",
    "\n",
    "    words_without_wletters = words_without_wrong_letters(words_with_correct_letters,list_wrong_letters)\n",
    "\n",
    "    words_without_wposition = words_without_letters_wposition(words_without_wletters,create_dic_wrong_positions)\n",
    "\n",
    "    words_with_wpossition_letters = words_with_letters_in(words_without_wposition,create_dic_wrong_positions)\n",
    "\n",
    "    return words_with_wpossition_letters\n",
    "\n",
    "\n",
    "\n"
   ]
  },
  {
   "cell_type": "code",
   "execution_count": 4,
   "metadata": {},
   "outputs": [
    {
     "name": "stdout",
     "output_type": "stream",
     "text": [
      "{'id': '62b61e70ce8881b753923b44', 'length_word': 6, 'vowels': 2, 'consonants': 4}\n"
     ]
    }
   ],
   "source": [
    "#start the game\n",
    "\n",
    "response_get_letter = requests.get(endponint_get, auth = user)\n",
    "print(response_get_letter.json())\n"
   ]
  },
  {
   "cell_type": "code",
   "execution_count": 103,
   "metadata": {},
   "outputs": [
    {
     "name": "stdout",
     "output_type": "stream",
     "text": [
      "{'id': '62b61e70ce8881b753923b44', 'length_word': 6, 'vowels': 2, 'consonants': 4}\n",
      "2\n"
     ]
    }
   ],
   "source": [
    "print(response_get_letter.json())\n",
    "json = response_get_letter.json()\n",
    "print(json['vowels'])"
   ]
  },
  {
   "cell_type": "code",
   "execution_count": 104,
   "metadata": {},
   "outputs": [
    {
     "name": "stdout",
     "output_type": "stream",
     "text": [
      "2\n",
      "ballet\n",
      "cintas\n"
     ]
    }
   ],
   "source": [
    "# local test choose random word \n",
    "\n",
    "dic_wrong_positions_letters = {}\n",
    "dic_correct_positions_letters = {}\n",
    "list_wrong_letters = []\n",
    "\n",
    "print(json[\"vowels\"])\n",
    "\n",
    "dummy = words_specific_length(words_final_list,json[\"length_word\"])\n",
    "#print(dummy)\n",
    "filt = []\n",
    "filt = words_by_vowels(dummy,json['vowels'])\n",
    "#print(filt)\n",
    "\n",
    "random_word = random.choice(filt)\n",
    "random_word1 = random.choice(filt)\n",
    "\n",
    "cont = 0\n",
    "print(random_word)\n",
    "print(random_word1)\n"
   ]
  },
  {
   "cell_type": "code",
   "execution_count": 82,
   "metadata": {},
   "outputs": [],
   "source": [
    "json_response ={\n",
    "    \"result_word\" : \"arseon\"\n",
    "}"
   ]
  },
  {
   "cell_type": "code",
   "execution_count": 93,
   "metadata": {},
   "outputs": [
    {
     "name": "stdout",
     "output_type": "stream",
     "text": [
      "{'word_sent': 'sirven', 'score': 1.0, 'try_datetime': '2022-06-24T21:53:16.236826', 'position_array': [True, True, True, True, True, True], 'right_letters_in_wrong_positions': [], 'current_attemps': 3}\n"
     ]
    }
   ],
   "source": [
    "response_post_word = requests.post(endponint_post,json = json_response,auth = user)\n",
    "print(response_post_word.json())"
   ]
  },
  {
   "cell_type": "code",
   "execution_count": 94,
   "metadata": {},
   "outputs": [
    {
     "name": "stdout",
     "output_type": "stream",
     "text": [
      "{'word_sent': 'sirven', 'score': 1.0, 'try_datetime': '2022-06-24T21:53:16.236826', 'position_array': [True, True, True, True, True, True], 'right_letters_in_wrong_positions': [], 'current_attemps': 3}\n"
     ]
    }
   ],
   "source": [
    "print(response_post_word.json())\n",
    "dic_wrong_positions_letters = {}\n",
    "dic_correct_positions_letters = {}\n",
    "list_wrong_letters = []"
   ]
  },
  {
   "cell_type": "code",
   "execution_count": 95,
   "metadata": {},
   "outputs": [
    {
     "name": "stdout",
     "output_type": "stream",
     "text": [
      "['sirven']\n"
     ]
    }
   ],
   "source": [
    "json = response_post_word.json()\n",
    "\n",
    "find = find_next_word(filt,json[\"word_sent\"],json[\"position_array\"],json[\"right_letters_in_wrong_positions\"])\n",
    "print(find)\n",
    "random_word1 = random.choice(find)\n"
   ]
  },
  {
   "cell_type": "code",
   "execution_count": 92,
   "metadata": {},
   "outputs": [
    {
     "name": "stdout",
     "output_type": "stream",
     "text": [
      "{'result_word': 'sirven'}\n"
     ]
    }
   ],
   "source": [
    "json_response ={\n",
    "    \"result_word\" : random_word1\n",
    "}\n",
    "print(json_response)"
   ]
  },
  {
   "cell_type": "code",
   "execution_count": 207,
   "metadata": {},
   "outputs": [
    {
     "name": "stdout",
     "output_type": "stream",
     "text": [
      "kirk\n",
      "sant\n",
      "2\n",
      "kirk\n",
      "folk\n",
      "3\n",
      "kirk\n",
      "peck\n",
      "4\n",
      "kirk\n",
      "kirk\n"
     ]
    }
   ],
   "source": [
    "# local test choose random word \n",
    "\n",
    "dic_wrong_positions_letters = {}\n",
    "dic_correct_positions_letters = {}\n",
    "list_wrong_letters = []\n",
    "\n",
    "json = {\n",
    "  \"id\": \"string\",\n",
    "  \"length_word\": 4,\n",
    "  \"vowels\": 1,\n",
    "  \"consonants\": 3\n",
    "}\n",
    "\n",
    "words_list_for_game = words_specific_length(words_final_list,json[\"length_word\"])\n",
    "#print(dummy)\n",
    "words_list_for_game = words_by_vowels(words_list_for_game,json[\"vowels\"])\n",
    "#print(filt)\n",
    "\n",
    "random_word = random.choice(words_list_for_game)\n",
    "\n",
    "#random_word1 = random.choice(filt)\n",
    "random_word1 = choose_word(words_list_for_game)\n",
    "cont = 1\n",
    "print(random_word)\n",
    "print(random_word1)\n",
    "\n",
    "while random_word1 != random_word:\n",
    "  array = []\n",
    "  for pos,let in enumerate(random_word1):\n",
    "    if let == random_word[pos]:\n",
    "      array.append(True)\n",
    "    else:\n",
    "      array.append(False)\n",
    "  letters = []\n",
    "  for position, letter in enumerate(random_word1):\n",
    "    if letter in random_word and array[position] == False:\n",
    "      letters.append(letter)\n",
    "  # print(array)\n",
    "  # print(letters)\n",
    "  json = {\n",
    "    \"word_sent\": random_word1,\n",
    "    \"score\": 0.233,\n",
    "    \"try_datetime\": '21-06-2022',\n",
    "    \"position_array\": array,\n",
    "    \"right_letters_in_wrong_positions\": letters\n",
    "  }\n",
    "\n",
    "  cont += 1\n",
    "  print(cont)\n",
    "\n",
    "  find = find_next_word(words_list_for_game,json[\"word_sent\"],json[\"position_array\"],json[\"right_letters_in_wrong_positions\"])\n",
    "  #print(find)\n",
    "  random_word1 = choose_word(find)\n",
    "  print(random_word)\n",
    "  print(random_word1)\n",
    "\n"
   ]
  },
  {
   "cell_type": "code",
   "execution_count": 102,
   "metadata": {},
   "outputs": [
    {
     "name": "stdout",
     "output_type": "stream",
     "text": [
      "28\n",
      "0.02199528672427337\n"
     ]
    }
   ],
   "source": [
    "alphabet = ['a', 'b', 'c', 'd', 'e', 'f', 'g', 'h', 'i', 'j', 'k', 'l', 'm', \n",
    "            'n','ñ', 'o', 'p', 'q', 'r', 's', 't', 'u', 'v', 'w', 'x', 'y', 'z']\n",
    "\n",
    "json = {\n",
    "  \"id\": \"string\",\n",
    "  \"length_word\": 6,\n",
    "  \"vowels\": 2,\n",
    "  \"consonants\": 3\n",
    "}\n",
    "\n",
    "dummy = words_specific_length(words_final_list,json[\"length_word\"])\n",
    "#print(dummy)\n",
    "filt = words_by_vowels(dummy,json[\"vowels\"])\n",
    "\n",
    "position_letters_dict = posittion_dict(alphabet,filt)\n",
    "print(position_letters_dict['a'].count(0))\n",
    "\n",
    "letter_list = [i for i in position_letters_dict]\n",
    "\n",
    "df_words_frecuency= pd.DataFrame(list(zip(letter_list)),\n",
    "                     columns =['letters'])\n",
    "\n",
    "#print(df_words_frecuency)\n",
    "df_words_frecuency.set_index('letters')\n",
    "\n",
    "for i in range(json[\"length_word\"]):\n",
    "\n",
    "    df_words_frecuency['position_{}'.format(i)] = [position_letters_dict[j].count(i)/len(filt) for j in position_letters_dict]\n",
    "\n",
    "\n",
    "\n",
    "df_words_frecuency= df_words_frecuency.set_index('letters')\n",
    "#print(df_words_frecuency)\n",
    "letter= 'a'\n",
    "posi = 0\n",
    "print(df_words_frecuency.loc[letter,'position_{}'.format(posi)])\n",
    "    "
   ]
  },
  {
   "cell_type": "code",
   "execution_count": 100,
   "metadata": {},
   "outputs": [
    {
     "name": "stdout",
     "output_type": "stream",
     "text": [
      "['c']\n"
     ]
    }
   ],
   "source": [
    "a = max(df_words_frecuency['position_0'].values)\n",
    "b = df_words_frecuency.loc[df_words_frecuency['position_0']==a].index.values\n",
    "\n",
    "print(b)"
   ]
  }
 ],
 "metadata": {
  "kernelspec": {
   "display_name": "Python 3.8.1 ('venv': virtualenv)",
   "language": "python",
   "name": "python3"
  },
  "language_info": {
   "codemirror_mode": {
    "name": "ipython",
    "version": 3
   },
   "file_extension": ".py",
   "mimetype": "text/x-python",
   "name": "python",
   "nbconvert_exporter": "python",
   "pygments_lexer": "ipython3",
   "version": "3.8.1"
  },
  "orig_nbformat": 4,
  "vscode": {
   "interpreter": {
    "hash": "e16987386912a2ab5ce2b083eb4c6af33b693eb6294167d13947179556e43b0d"
   }
  }
 },
 "nbformat": 4,
 "nbformat_minor": 2
}
